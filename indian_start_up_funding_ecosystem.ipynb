{
 "cells": [
  {
   "cell_type": "markdown",
   "id": "0ec3d523-81a9-4a10-be23-cce7e09d04d3",
   "metadata": {},
   "source": [
    "## Indian Start-Up Funding Ecosystem"
   ]
  },
  {
   "cell_type": "code",
   "execution_count": null,
   "id": "b7fb6468-bbc6-4ed5-9b11-5699834c7cfa",
   "metadata": {},
   "outputs": [],
   "source": [
    "# Import requisite libraries\n",
    "import pyodbc    \n",
    "from dotenv import dotenv_values\n",
    "import warnings \n",
    "warnings.filterwarnings('ignore')\n",
    "import pandas as pd\n",
    "import numpy as np\n",
    "import matplotlib.pyplot as plt"
   ]
  },
  {
   "cell_type": "markdown",
   "id": "d899f952-2693-4c8e-a88c-58ac04e15da3",
   "metadata": {},
   "source": [
    "### Data Collection"
   ]
  },
  {
   "cell_type": "code",
   "execution_count": null,
   "id": "9e7761e5-d82e-4187-812e-b01a4149058c",
   "metadata": {},
   "outputs": [],
   "source": [
    "# Load environment variables from .env file into a dictionary\n",
    "environment_variables = dotenv_values('.env')\n",
    "\n",
    "\n",
    "# Get the values for the credentials you set in the '.env' file\n",
    "server = environment_variables.get(\"SERVER\")\n",
    "database = environment_variables.get(\"DATABASE\")\n",
    "username = environment_variables.get(\"USERNAME\")\n",
    "password = environment_variables.get(\"PASSWORD\")\n",
    "\n",
    "\n",
    "connection_string = f\"DRIVER={{SQL Server}};SERVER={server};DATABASE={database};UID={username};PWD={password};MARS_Connection=yes;MinProtocolVersion=TLSv1.2;\""
   ]
  },
  {
   "cell_type": "code",
   "execution_count": null,
   "id": "51fc566b-8f0d-42f3-a4ea-83b512d60fe9",
   "metadata": {},
   "outputs": [],
   "source": [
    "# Establish a connection to the DAPS Project database using the PyODBC library\n",
    "connection = pyodbc.connect(connection_string)"
   ]
  },
  {
   "cell_type": "code",
   "execution_count": null,
   "id": "a462a247-ad95-40e4-aa90-e5eff0686171",
   "metadata": {},
   "outputs": [],
   "source": [
    "# Access the 2018 dataset\n",
    "url = 'https://raw.githubusercontent.com/Azubi-Africa/Career_Accelerator_LP1-Data_Analysis/main/startup_funding2018.csv'\n",
    "\n",
    "dat1 = pd.read_csv(url)\n",
    "dat1"
   ]
  },
  {
   "cell_type": "code",
   "execution_count": null,
   "id": "d7d2bc65",
   "metadata": {},
   "outputs": [],
   "source": [
    "dat1.info()"
   ]
  },
  {
   "cell_type": "code",
   "execution_count": null,
   "id": "f783db86",
   "metadata": {},
   "outputs": [],
   "source": [
    "dat1[\"Amount\"]"
   ]
  },
  {
   "cell_type": "code",
   "execution_count": null,
   "id": "6ba05917",
   "metadata": {},
   "outputs": [],
   "source": [
    "dat1[\"Amount\"].unique()"
   ]
  },
  {
   "cell_type": "code",
   "execution_count": null,
   "id": "1b715983",
   "metadata": {},
   "outputs": [],
   "source": [
    "dat1[dat1[\"Amount\"].str.startswith(\"$\")]"
   ]
  },
  {
   "cell_type": "code",
   "execution_count": null,
   "id": "dcf002e1",
   "metadata": {},
   "outputs": [],
   "source": [
    "# Assuming your dataframe is named dat1\n",
    "dat1['Amount'] = dat1['Amount'].str.replace(',', '')\n",
    "dat1"
   ]
  },
  {
   "cell_type": "code",
   "execution_count": null,
   "id": "9cf29544",
   "metadata": {},
   "outputs": [],
   "source": [
    "# Define a function to convert rupees to dollars\n",
    "def convert_to_dollars(Amount):\n",
    "    if Amount.startswith('₹'):\n",
    "        return float(Amount[1:]) * 0.0146\n",
    "    else:\n",
    "        return Amount\n",
    " \n",
    "# Apply the conversion function to the 'amount' column\n",
    "dat1['Amount'] = dat1['Amount'].apply(convert_to_dollars)"
   ]
  },
  {
   "cell_type": "code",
   "execution_count": null,
   "id": "fe37369c",
   "metadata": {},
   "outputs": [],
   "source": [
    "dat1"
   ]
  },
  {
   "cell_type": "code",
   "execution_count": null,
   "id": "4a70c6d1",
   "metadata": {},
   "outputs": [],
   "source": [
    "#dat1[dat1[\"Amount\"].str.startswith(\"₹\")]#"
   ]
  },
  {
   "cell_type": "code",
   "execution_count": null,
   "id": "c076a5ff",
   "metadata": {},
   "outputs": [],
   "source": [
    "#dat1[~dat1['Amount'].str.startswith(('₹', '$'))]#"
   ]
  },
  {
   "cell_type": "code",
   "execution_count": null,
   "id": "fb10e8e6",
   "metadata": {},
   "outputs": [],
   "source": [
    "# Access the 2019 dataset\n",
    "\n",
    "dat2 = pd.read_csv(r'C:\\Users\\HP SPECTRE\\OneDrive\\Desktop\\startup_funding2019.csv')\n",
    "dat2"
   ]
  },
  {
   "cell_type": "code",
   "execution_count": null,
   "id": "8f25513b",
   "metadata": {},
   "outputs": [],
   "source": [
    "# Define a function to convert rupees to dollars\n",
    "def convert_to_dollars(Amount):\n",
    "    if Amount.startswith('₹'):\n",
    "        return float(Amount[1:]) * 0.0146\n",
    "    else:\n",
    "        return Amount\n",
    " \n",
    "# Apply the conversion function to the 'amount' column\n",
    "dat2['Amount($)'] = dat2['Amount($)'].apply(convert_to_dollars)"
   ]
  },
  {
   "cell_type": "code",
   "execution_count": null,
   "id": "be4f2222",
   "metadata": {},
   "outputs": [],
   "source": [
    "dat2"
   ]
  },
  {
   "cell_type": "code",
   "execution_count": null,
   "id": "a1d7211f",
   "metadata": {},
   "outputs": [],
   "source": [
    "#Renaming amount column in dataset 2#\n",
    "\n",
    "dat2 = dat2.rename(columns={'Amount($)':'Amount'})\n",
    "dat2"
   ]
  },
  {
   "cell_type": "code",
   "execution_count": null,
   "id": "6751524b",
   "metadata": {},
   "outputs": [],
   "source": [
    "dat2[~dat2['Amount'].str.startswith(('$'))]"
   ]
  },
  {
   "cell_type": "code",
   "execution_count": null,
   "id": "c19e16e5",
   "metadata": {},
   "outputs": [],
   "source": [
    "dat2['Amount'].unique()"
   ]
  },
  {
   "cell_type": "code",
   "execution_count": null,
   "id": "78d3b9af",
   "metadata": {},
   "outputs": [],
   "source": [
    "dat2_undisclosed = dat2[dat2['Amount']=='Undisclosed']\n",
    "dat2_undisclosed"
   ]
  },
  {
   "cell_type": "code",
   "execution_count": null,
   "id": "c7884542",
   "metadata": {},
   "outputs": [],
   "source": [
    "dat2 = dat2[dat2['Amount']!='Undisclosed']\n",
    "dat2['Amount'].unique()"
   ]
  },
  {
   "cell_type": "code",
   "execution_count": null,
   "id": "1b92e992",
   "metadata": {},
   "outputs": [],
   "source": [
    "# Assuming your dataframe is named dat2\n",
    "dat2['Amount'] = dat2['Amount'].str.startswith('$','')\n",
    "dat2"
   ]
  },
  {
   "cell_type": "code",
   "execution_count": null,
   "id": "e7966805",
   "metadata": {},
   "outputs": [],
   "source": [
    "dat2"
   ]
  },
  {
   "cell_type": "code",
   "execution_count": null,
   "id": "5407091e",
   "metadata": {},
   "outputs": [],
   "source": [
    "dat1.to_csv('./dataset/startup_funding2018.csv')"
   ]
  },
  {
   "cell_type": "code",
   "execution_count": null,
   "id": "3e381ceb",
   "metadata": {},
   "outputs": [],
   "source": [
    "dat2.to_csv('./dataset/startup_funding2019.csv')"
   ]
  },
  {
   "cell_type": "code",
   "execution_count": null,
   "id": "a8f9d9d4",
   "metadata": {},
   "outputs": [],
   "source": [
    "dat3.to_csv('./dataset/startup_funding2020.csv')"
   ]
  },
  {
   "cell_type": "code",
   "execution_count": null,
   "id": "d4a31e2b",
   "metadata": {},
   "outputs": [],
   "source": [
    "dat4.to_csv('./dataset/startup_funding2021.csv')"
   ]
  },
  {
   "cell_type": "code",
   "execution_count": null,
   "id": "45538fa4-f037-477c-9ecc-cdc8a11e37b7",
   "metadata": {},
   "outputs": [],
   "source": [
    "query = \"Select * from LP1_startup_funding2020\"\n",
    "\n",
    "dat3 = pd.read_sql(query, connection)\n",
    "dat3"
   ]
  },
  {
   "cell_type": "code",
   "execution_count": null,
   "id": "24fe32d2-4076-44d8-9969-4d7775d8240f",
   "metadata": {},
   "outputs": [],
   "source": [
    "query = \"Select * from dbo.LP1_startup_funding2021\"\n",
    "\n",
    "dat4 = pd.read_sql(query, connection)\n",
    "dat4"
   ]
  },
  {
   "cell_type": "markdown",
   "id": "7ae1b12e-50d9-45e8-8ec8-7980f1c48729",
   "metadata": {},
   "source": [
    "### Loading the datasets"
   ]
  },
  {
   "cell_type": "code",
   "execution_count": null,
   "id": "b489f4d1-ca05-45d5-8d32-7e757c9928d8",
   "metadata": {},
   "outputs": [],
   "source": [
    "# Creating dataframes based on each dataset\n",
    "\n",
    "data1 = 'startup_funding2018.csv'\n",
    "data2 = 'startup_funding2019.csv'\n",
    "data3 = 'startup_funding2020.csv'\n",
    "data4 = 'startup_funding2021.csv'\n",
    "\n",
    "df1 = pd.read_csv(data1)\n",
    "df2 = pd.read_csv(data2)\n",
    "df3 = pd.read_csv(data3)\n",
    "df4 = pd.read_csv(data4)"
   ]
  },
  {
   "cell_type": "code",
   "execution_count": null,
   "id": "cd605ce5-22d3-483a-a15b-bcb266ca3dea",
   "metadata": {},
   "outputs": [],
   "source": [
    "# Adding a year column to each dataset so that rows are not lost should it become necessary to merge all datasets later on\n",
    "year_1 = 2018\n",
    "df1['Year'] = year_1\n",
    "\n",
    "year_2 = 2019\n",
    "df2['Year'] = year_2\n",
    "\n",
    "year_3 = 2020\n",
    "df3['Year'] = year_3\n",
    "\n",
    "year_4 = 2021\n",
    "df4['Year'] = year_4\n",
    "\n",
    "# Convert the year column from int data type to year data type\n",
    "df1['Year'] = pd.to_datetime(df1['Year'], format='%Y').dt.year\n",
    "\n",
    "df2['Year'] = pd.to_datetime(df2['Year'], format='%Y').dt.year\n",
    "\n",
    "df3['Year'] = pd.to_datetime(df3['Year'], format='%Y').dt.year\n",
    "\n",
    "df4['Year'] = pd.to_datetime(df4['Year'], format='%Y').dt.year"
   ]
  },
  {
   "cell_type": "markdown",
   "id": "1866b81f-2612-426a-bfc2-f4593dfd7db2",
   "metadata": {},
   "source": [
    "### Data Cleaning"
   ]
  },
  {
   "cell_type": "code",
   "execution_count": null,
   "id": "74f7256c-45a1-4ae4-aafc-96548bb402e7",
   "metadata": {},
   "outputs": [],
   "source": [
    "# Preview of df1\n",
    "df1.head()"
   ]
  },
  {
   "cell_type": "code",
   "execution_count": null,
   "id": "7ef3157a-c2ee-450c-ae30-ac9a62e8f735",
   "metadata": {},
   "outputs": [],
   "source": [
    "# Preview of df2\n",
    "df2.head()"
   ]
  },
  {
   "cell_type": "code",
   "execution_count": null,
   "id": "c831dacd-ca9d-4ae5-8aef-bf4091bddad8",
   "metadata": {},
   "outputs": [],
   "source": [
    "# Preview of df3\n",
    "df3.head()"
   ]
  },
  {
   "cell_type": "code",
   "execution_count": null,
   "id": "5f7b26b5-fb78-40eb-a7f4-6f2a4be5ed1e",
   "metadata": {},
   "outputs": [],
   "source": [
    "# Preview of df4\n",
    "df4.head()"
   ]
  },
  {
   "cell_type": "code",
   "execution_count": null,
   "id": "41417a43-9b56-4912-95b3-8aa5555a7ba2",
   "metadata": {},
   "outputs": [],
   "source": [
    "# Information on df1\n",
    "df1.info()"
   ]
  },
  {
   "cell_type": "code",
   "execution_count": null,
   "id": "dad039f0-bd66-454f-88ab-b0ffc01594a6",
   "metadata": {},
   "outputs": [],
   "source": [
    "# Rename columns in df1 to match columns with similar content in df2, df3 and df4\n",
    "df1 = df1.rename(columns = {'Company Name' : 'Company_Brand', 'Round/Series' : 'Stage', 'About Company' : 'What_it_does', 'Amount' : 'Amount($)'})"
   ]
  },
  {
   "cell_type": "code",
   "execution_count": null,
   "id": "ec66e5bd-fac0-4c35-bbd1-86d34f40b591",
   "metadata": {},
   "outputs": [],
   "source": [
    "# Extract Headquarters information from df1's Location column\n",
    "df1['Headquarters'] = df1['Location'].str.split(',').str[0]\n",
    "df1['Headquarters']"
   ]
  },
  {
   "cell_type": "code",
   "execution_count": null,
   "id": "93f284c6-907a-421f-a3ca-9543a53c75d0",
   "metadata": {},
   "outputs": [],
   "source": [
    "df1['Sector'] = df1['Industry'].str.split(',').str[0]\n",
    "df1[df1['Sector'] == 'Agritech']"
   ]
  },
  {
   "cell_type": "code",
   "execution_count": null,
   "id": "188b6912-5dde-4623-8484-9d30005caa43",
   "metadata": {},
   "outputs": [],
   "source": [
    "# Convert Amount from object to float data type\n",
    "\n",
    "# First, remove currency symbol ₹\n",
    "df1['Amount($)'] = df1['Amount($)'].str.replace('₹', '')\n",
    "\n",
    "# Remove the comma (,) symbol\n",
    "df1['Amount($)'] = df1['Amount($)'].str.replace(',', '')\n",
    "\n",
    "# Remove the hyphen (—) symbol\n",
    "df1['Amount($)'] = df1['Amount($)'].str.replace('—', '')\n",
    "\n",
    "# Replace all empty spaces with 0\n",
    "df1['Amount($)'] = df1['Amount($)'].str.replace('', '0')\n",
    "\n",
    "# Replace all strings longer than 9 character\n",
    "max_length = 9\n",
    "df1['Amount($)'] = df1['Amount($)'].apply(lambda x: '0' if len(x) > max_length else x)\n",
    "\n",
    "# df1['Amount($)'] = df1['Amount($)'].str.replace('0000000$0000000100000004000000030000000100000004000000050000000', '0')\n",
    "\n",
    "# df1['Amount($)'] = df1['Amount($)'].str.replace('000000000000000$000000000000000100000000000000040000000000000003000000000000000100000000000000040000000000000005000000000000000', '0')\n",
    "\n",
    "# Remove all white spaces\n",
    "df1['Amount($)'] = df1['Amount($)'].str.strip()\n",
    "\n",
    "df1['Amount($)'] = df1['Amount($)'].astype(np.float64).round(2)"
   ]
  },
  {
   "cell_type": "code",
   "execution_count": null,
   "id": "42cc5c7c-168a-40fe-89e0-5bdb356c9ec7",
   "metadata": {},
   "outputs": [],
   "source": [
    "df1.drop(columns = ['Industry', 'Location'])"
   ]
  },
  {
   "cell_type": "code",
   "execution_count": null,
   "id": "83eb9e24-4b71-45e0-9a8d-a75ca6d8fd20",
   "metadata": {},
   "outputs": [],
   "source": [
    "# Checking information on df1 after cleaning the data\n",
    "df1.info()"
   ]
  },
  {
   "cell_type": "code",
   "execution_count": null,
   "id": "08a617bf-3b56-49b2-8cf7-2542f915a845",
   "metadata": {},
   "outputs": [],
   "source": [
    "df2.Sector"
   ]
  },
  {
   "cell_type": "code",
   "execution_count": null,
   "id": "61ce9b93-659b-4bb3-ad37-78080fc28566",
   "metadata": {},
   "outputs": [],
   "source": [
    "# Checking df2 information before data cleaning\n",
    "df2.info()"
   ]
  },
  {
   "cell_type": "code",
   "execution_count": null,
   "id": "35ced545-5b7e-4ef8-b43c-f9658ccb9db2",
   "metadata": {},
   "outputs": [],
   "source": [
    "# Fill missing values in Founded column\n",
    "df2['Founded'] = df2['Founded'].fillna(0)"
   ]
  },
  {
   "cell_type": "code",
   "execution_count": null,
   "id": "47ba6102-ed62-4813-81a7-c852d4f40a59",
   "metadata": {},
   "outputs": [],
   "source": [
    "# Fill missing values in Founded column\n",
    "df2['Founded'] = df2['Founded'].fillna(0)"
   ]
  },
  {
   "cell_type": "code",
   "execution_count": null,
   "id": "3f2cc552-f893-4c7f-8ee2-fa69574b4479",
   "metadata": {},
   "outputs": [],
   "source": [
    "# Convert Founded column from float to int\n",
    "df2['Founded'] = df2['Founded'].astype(int)"
   ]
  },
  {
   "cell_type": "code",
   "execution_count": null,
   "id": "d7e87847-ad14-4dbb-910e-4b8503138de2",
   "metadata": {},
   "outputs": [],
   "source": [
    "# Rename Headquarter to Headquarters\n",
    "df2 = df2.rename(columns = {'Company/Brand' : 'Company_Brand', 'What it does' : 'What_it_does', 'HeadQuarter' : 'Headquarters'})"
   ]
  },
  {
   "cell_type": "code",
   "execution_count": null,
   "id": "0c5fa9d7-7e34-4cee-b4bb-5f9b8014374e",
   "metadata": {},
   "outputs": [],
   "source": [
    "# Convert Amount column from object to float data type\n",
    "\n",
    "# Remove currency symbol $\n",
    "df2['Amount($)'] = df2['Amount($)'].str.replace('$', '')\n",
    "\n",
    "# Remove the comma (,) symbol\n",
    "df2['Amount($)'] = df2['Amount($)'].str.replace(',', '')\n",
    "\n",
    "# Replace all strings longer than 9 character\n",
    "max_length = 9\n",
    "df2['Amount($)'] = df2['Amount($)'].apply(lambda x: '0' if len(x) > max_length else x)\n",
    "\n",
    "# Remove all white spaces\n",
    "df2['Amount($)'] = df2['Amount($)'].str.strip()\n",
    "\n",
    "df2['Amount($)'] = df2['Amount($)'].astype(np.float64).round(2)"
   ]
  },
  {
   "cell_type": "code",
   "execution_count": null,
   "id": "f61f86a0-1135-492e-a482-a79e57e22d1c",
   "metadata": {},
   "outputs": [],
   "source": [
    "df2.isna().sum()"
   ]
  },
  {
   "cell_type": "code",
   "execution_count": null,
   "id": "7eccab52-d232-4fc6-bf6d-bb77bec4350b",
   "metadata": {},
   "outputs": [],
   "source": [
    "df2[['Headquarters', 'Sector', 'Founders', 'Stage']] = df2[['Headquarters', 'Sector', 'Founders', 'Stage']].fillna('')"
   ]
  },
  {
   "cell_type": "code",
   "execution_count": null,
   "id": "04b7b323-6a8c-4232-9082-0c8ad49161fb",
   "metadata": {},
   "outputs": [],
   "source": [
    "df2.isna().sum()"
   ]
  },
  {
   "cell_type": "code",
   "execution_count": null,
   "id": "4fb97f62-bce1-44be-966b-3b946ea4aacd",
   "metadata": {},
   "outputs": [],
   "source": [
    "# Checking df2 after data cleaning\n",
    "df2.info()"
   ]
  },
  {
   "cell_type": "code",
   "execution_count": null,
   "id": "8248dcf9-d5e0-45e6-bd04-48bb00432d88",
   "metadata": {},
   "outputs": [],
   "source": [
    "# df3 information before data cleaning\n",
    "df3.info()"
   ]
  },
  {
   "cell_type": "code",
   "execution_count": null,
   "id": "b68560a6-6c5f-4485-bb15-322cf2b23dd2",
   "metadata": {},
   "outputs": [],
   "source": [
    "# Rename Headquarter to Headquarters\n",
    "df3 = df3.rename(columns = {'HeadQuarter' : 'Headquarters', 'Amount' : 'Amount($)'})"
   ]
  },
  {
   "cell_type": "code",
   "execution_count": null,
   "id": "b9ed981e-a431-4c7e-94fd-7d4c4322c714",
   "metadata": {},
   "outputs": [],
   "source": [
    "df3['Founded'] = df3['Founded'].fillna('0')"
   ]
  },
  {
   "cell_type": "code",
   "execution_count": null,
   "id": "503edd55-1b22-4a83-a851-27c20898fc6f",
   "metadata": {},
   "outputs": [],
   "source": [
    "# Convert Founded column from float to int\n",
    "df3['Founded'] = df3['Founded'].astype(int)"
   ]
  },
  {
   "cell_type": "code",
   "execution_count": null,
   "id": "a16e1043-19d6-4596-87a2-23ae2e9dba32",
   "metadata": {},
   "outputs": [],
   "source": [
    "# # Convert Amount($) column from object to float data type\n",
    "\n",
    "# # Remove currency symbol $\n",
    "# df3['Amount($)'] = df3['Amount($)'].str.replace('$', '')\n",
    "\n",
    "# # Remove the comma (,) symbol\n",
    "# df3['Amount($)'] = df3['Amount($)'].str.replace(',', '')\n",
    "\n",
    "# # Replace all strings longer than 9 character\n",
    "# max_length = 9\n",
    "# df3['Amount($)'] = df3['Amount($)'].apply(lambda x: '0' if len(x) > max_length else x)\n",
    "\n",
    "# # Remove all white spaces\n",
    "# df3['Amount($)'] = df3['Amount($)'].str.strip()\n",
    "\n",
    "# df3['Amount($)'] = df3['Amount($)'].astype(np.float64).round(2)\n",
    "df3['Amount($)'].isna().sum()"
   ]
  },
  {
   "cell_type": "code",
   "execution_count": null,
   "id": "fa048805-b7fa-4dbd-8eb5-65eebf02d3a3",
   "metadata": {},
   "outputs": [],
   "source": [
    "df3['Amount($)'] = df3['Amount($)'].fillna(0)"
   ]
  },
  {
   "cell_type": "code",
   "execution_count": null,
   "id": "7780e4a7-5750-4060-b840-a9189950d383",
   "metadata": {},
   "outputs": [],
   "source": [
    "df3['Stage'].describe()"
   ]
  },
  {
   "cell_type": "code",
   "execution_count": null,
   "id": "cbb7a8d2-7884-4210-98bf-33e7b2a06efd",
   "metadata": {},
   "outputs": [],
   "source": [
    "df3.isna().sum()"
   ]
  },
  {
   "cell_type": "code",
   "execution_count": null,
   "id": "11b12c76-cef2-4fd5-a766-6c0788ced94e",
   "metadata": {},
   "outputs": [],
   "source": [
    "df3['Stage'] = df3['Stage'].fillna('Unknown')\n",
    "df3['Stage'].isna().sum()"
   ]
  },
  {
   "cell_type": "code",
   "execution_count": null,
   "id": "0fc8effe-3ced-43a9-939f-d4ba12992e84",
   "metadata": {},
   "outputs": [],
   "source": [
    "df3.tail(20)"
   ]
  },
  {
   "cell_type": "code",
   "execution_count": null,
   "id": "6b7e78ce-5aa8-41d1-a484-ae431b8b3453",
   "metadata": {},
   "outputs": [],
   "source": [
    "# df3 after renaming column\n",
    "df3.info()"
   ]
  },
  {
   "cell_type": "code",
   "execution_count": null,
   "id": "124884e7-e290-4553-9943-bdf3e5b426a1",
   "metadata": {},
   "outputs": [],
   "source": [
    "# df4 information before data cleaning\n",
    "df4.info()"
   ]
  },
  {
   "cell_type": "code",
   "execution_count": null,
   "id": "16cf54b0-5f32-471d-9bf7-b539112c2576",
   "metadata": {},
   "outputs": [],
   "source": [
    "# Rename Headquarter to Headquarters\n",
    "df4 = df4.rename(columns = {'HeadQuarter' : 'Headquarters', 'Amount' : 'Amount($)'})"
   ]
  },
  {
   "cell_type": "code",
   "execution_count": null,
   "id": "4642a19d-c8ae-4bad-91f0-91beb5acd719",
   "metadata": {},
   "outputs": [],
   "source": [
    "df4['Founded'] = df4['Founded'].fillna(0)"
   ]
  },
  {
   "cell_type": "code",
   "execution_count": null,
   "id": "e8c4db1f-efc5-47c8-a67f-baabc44d048d",
   "metadata": {},
   "outputs": [],
   "source": [
    "# Convert Founded column from float to int\n",
    "df4['Founded'] = df4['Founded'].astype(int)"
   ]
  },
  {
   "cell_type": "code",
   "execution_count": null,
   "id": "fc4d63ee-e0ca-4c1d-bd0c-0df1a987ebad",
   "metadata": {},
   "outputs": [],
   "source": [
    "df4['Stage'] = df4['Stage'].fillna('')"
   ]
  },
  {
   "cell_type": "code",
   "execution_count": null,
   "id": "a118f18d-7de7-4f17-add2-ad747f8c2b46",
   "metadata": {},
   "outputs": [],
   "source": [
    "# Convert Amount($) column from object to float data type\n",
    "\n",
    "# Remove currency symbol $\n",
    "df4['Amount($)'] = df4['Amount($)'].str.replace('$', '')\n",
    "df4['Stage'] = df4['Stage'].str.replace('$', '')\n",
    "df4['Stage'] = df4['Stage'].str.replace(',', '')\n",
    "df4['Investor'] = df4['Investor'].str.replace('$', '')\n",
    "df4['Investor'] = df4['Investor'].str.replace(',', '')\n",
    "df4['Investor'] = df4['Investor'].str.strip()\n"
   ]
  },
  {
   "cell_type": "code",
   "execution_count": null,
   "id": "e64fb8c4-0f19-458d-b559-52372f42dc6a",
   "metadata": {},
   "outputs": [],
   "source": [
    "# Define a function to check if a string represents an integer\n",
    "def is_string_integer(s):\n",
    "    try:\n",
    "        int(s)\n",
    "        return True\n",
    "    except ValueError:\n",
    "        return False\n",
    "\n",
    "# Apply the function to the 'Stage' column to create a boolean mask\n",
    "condition = df4['Stage'].apply(is_string_integer)\n",
    "\n",
    "# Swap values between 'Stage' and 'Amount($)' columns where condition is True\n",
    "temp = df4.loc[condition, 'Stage'].copy()\n",
    "df4.loc[condition, 'Stage'] = df4.loc[condition, 'Amount($)']\n",
    "df4.loc[condition, 'Amount($)'] = temp\n",
    "\n",
    "\n",
    "\n",
    "# df4[['Amount($)', 'Stage']]\n",
    "df4"
   ]
  },
  {
   "cell_type": "code",
   "execution_count": null,
   "id": "0dec0ce4-e6ca-4dad-ab7c-0cd55b65910c",
   "metadata": {},
   "outputs": [],
   "source": [
    "df4.groupby(by = 'Amount($)', as_index = False).sum()"
   ]
  },
  {
   "cell_type": "code",
   "execution_count": null,
   "id": "437ee6a8-90e3-43be-b79a-75146a79ad15",
   "metadata": {},
   "outputs": [],
   "source": [
    "df4['Amount($)'].isna().sum()"
   ]
  },
  {
   "cell_type": "code",
   "execution_count": null,
   "id": "23608875-4b6f-4dd9-9490-8686c55734bd",
   "metadata": {},
   "outputs": [],
   "source": [
    "df4['Amount($)'] = df4['Amount($)'].fillna('0')"
   ]
  },
  {
   "cell_type": "code",
   "execution_count": null,
   "id": "e01fc298-15b1-4f1a-8201-901be5ffb1cb",
   "metadata": {},
   "outputs": [],
   "source": [
    "# Define the pattern you want to search for in the 'Amount($)' column\n",
    "pattern = 'Series'  # Replace 'pattern' with your desired pattern\n",
    "\n",
    "# Identify rows where the 'Amount($)' column contains the specified pattern\n",
    "condition = df4['Amount($)'].str.contains(pattern)\n",
    "\n",
    "# Move the values from 'Amount($)' to 'Stage' where the pattern is found\n",
    "df4.loc[condition, 'Stage'] = df4.loc[condition, 'Amount($)']\n",
    "\n",
    "# Replace the values in 'Amount($)' with NaN where the pattern is found\n",
    "df4.loc[condition, 'Amount($)'] = pd.NA\n",
    "\n",
    "df4.groupby(by = 'Amount($)', as_index = False).sum()"
   ]
  },
  {
   "cell_type": "code",
   "execution_count": null,
   "id": "63aaac74-d112-40f5-a853-1d7e64bd3595",
   "metadata": {},
   "outputs": [],
   "source": [
    "df4['Amount($)'] = df4['Amount($)'].fillna('0')"
   ]
  },
  {
   "cell_type": "code",
   "execution_count": null,
   "id": "92839c87-9226-4c2e-bf39-b13dfe6e8b15",
   "metadata": {},
   "outputs": [],
   "source": [
    "# Define the pattern you want to search for in the 'Amount($)' column\n",
    "pattern = 'Seed'  # Replace 'pattern' with your desired pattern\n",
    "\n",
    "# Identify rows where the 'Amount($)' column contains the specified pattern\n",
    "condition = df4['Amount($)'].str.contains(pattern)\n",
    "\n",
    "# Move the values from 'Amount($)' to 'Stage' where the pattern is found\n",
    "df4.loc[condition, 'Stage'] = df4.loc[condition, 'Amount($)']\n",
    "\n",
    "# Replace the values in 'Amount($)' with NaN where the pattern is found\n",
    "df4.loc[condition, 'Amount($)'] = pd.NA\n",
    "\n",
    "df4.groupby(by = 'Amount($)', as_index = False).sum()"
   ]
  },
  {
   "cell_type": "code",
   "execution_count": null,
   "id": "9e55850f-9d34-4fb9-9c10-bb5d76a042a7",
   "metadata": {},
   "outputs": [],
   "source": [
    "df4['Amount($)'] = df4['Amount($)'].fillna('0')"
   ]
  },
  {
   "cell_type": "code",
   "execution_count": null,
   "id": "f7faa252-59c6-4b66-a336-3602db8f0c6d",
   "metadata": {},
   "outputs": [],
   "source": [
    "# Define the pattern you want to search for in the 'Amount($)' column\n",
    "pattern = 'Pre-s'  # Replace 'pattern' with your desired pattern\n",
    "\n",
    "# Identify rows where the 'Amount($)' column contains the specified pattern\n",
    "condition = df4['Amount($)'].str.contains(pattern)\n",
    "\n",
    "# Move the values from 'Amount($)' to 'Stage' where the pattern is found\n",
    "df4.loc[condition, 'Stage'] = df4.loc[condition, 'Amount($)']\n",
    "\n",
    "# Replace the values in 'Amount($)' with NaN where the pattern is found\n",
    "df4.loc[condition, 'Amount($)'] = pd.NA\n",
    "\n",
    "df4.groupby(by = 'Amount($)', as_index = False).sum()"
   ]
  },
  {
   "cell_type": "code",
   "execution_count": null,
   "id": "4d197b4b-2692-48ec-b289-72b60029af16",
   "metadata": {},
   "outputs": [],
   "source": [
    "df4.groupby(by = 'Investor', as_index = False).sum()"
   ]
  },
  {
   "cell_type": "code",
   "execution_count": null,
   "id": "c75cc8e0-f5c2-451b-bc3e-2fc4953c53f3",
   "metadata": {},
   "outputs": [],
   "source": [
    "df4['Investor'] = df4['Investor'].fillna('')"
   ]
  },
  {
   "cell_type": "code",
   "execution_count": null,
   "id": "41e82a98-c1e7-4a0e-a149-3cb581db25d7",
   "metadata": {},
   "outputs": [],
   "source": [
    "# Identify rows where 'Investor' column contains '$' symbol\n",
    "condition = df4['Investor'].str.contains('1000000')\n",
    "\n",
    "# Move values with '$' symbol from 'Investor' to 'Amount($)' column\n",
    "df4.loc[condition, 'Amount($)'] = df4.loc[condition, 'Investor']\n",
    "\n",
    "# Remove the '$' symbol from the 'Amount($)' column\n",
    "df4['Amount($)'] = df4['Amount($)'].str.replace('$', '')\n",
    "\n",
    "# Replace remaining values in 'Investor' with NaN\n",
    "# df4.loc[condition, 'Investor'] = pd.NA\n",
    "\n",
    "# print(df)"
   ]
  },
  {
   "cell_type": "code",
   "execution_count": null,
   "id": "23ab0e80-af2e-48b7-9391-bf51fae3517a",
   "metadata": {},
   "outputs": [],
   "source": [
    "# Identify rows where 'Investor' column contains '$' symbol\n",
    "condition = df4['Investor'].str.contains('5000000')\n",
    "\n",
    "# Move values with '$' symbol from 'Investor' to 'Amount($)' column\n",
    "df4.loc[condition, 'Amount($)'] = df4.loc[condition, 'Investor']\n",
    "\n",
    "# Remove the '$' symbol from the 'Amount($)' column\n",
    "df4['Amount($)'] = df4['Amount($)'].str.replace('$', '')\n",
    "\n",
    "# Replace remaining values in 'Investor' with NaN\n",
    "# df4.loc[condition, 'Investor'] = pd.NA\n",
    "\n",
    "# print(df)"
   ]
  },
  {
   "cell_type": "code",
   "execution_count": null,
   "id": "9eb2217f-13f4-4f50-be2a-a3269e68db2b",
   "metadata": {},
   "outputs": [],
   "source": [
    "# Identify rows where 'Investor' column contains '$' symbol\n",
    "condition = df4['Investor'].str.contains('1000000')\n",
    "\n",
    "# Move values with '$' symbol from 'Investor' to 'Amount($)' column\n",
    "df4.loc[condition, 'Amount($)'] = df4.loc[condition, 'Investor']\n",
    "\n",
    "# Remove the '$' symbol from the 'Amount($)' column\n",
    "df4['Amount($)'] = df4['Amount($)'].str.replace('$', '')\n",
    "\n",
    "# Replace remaining values in 'Investor' with NaN\n",
    "# df4.loc[condition, 'Investor'] = pd.NA\n",
    "\n",
    "# print(df)"
   ]
  },
  {
   "cell_type": "code",
   "execution_count": null,
   "id": "b51ae4ff-7aff-402d-8a5e-fcbabdb5145b",
   "metadata": {},
   "outputs": [],
   "source": [
    "# Identify rows where 'Investor' column contains '$' symbol\n",
    "condition = df4['Investor'].str.contains('22000000')\n",
    "\n",
    "# Move values with '$' symbol from 'Investor' to 'Amount($)' column\n",
    "df4.loc[condition, 'Amount($)'] = df4.loc[condition, 'Investor']\n",
    "\n",
    "# Remove the '$' symbol from the 'Amount($)' column\n",
    "df4['Amount($)'] = df4['Amount($)'].str.replace('$', '')\n",
    "df4['Investor'] = df4['Investor'].str.replace('1000000', 'NA')\n",
    "df4['Investor'] = df4['Investor'].str.replace('1000000\\t#REF!', 'NA')\n",
    "# Replace remaining values in 'Investor' with NaN\n",
    "# df4.loc[condition, 'Investor'] = pd.NA\n",
    "\n",
    "# print(df)"
   ]
  },
  {
   "cell_type": "code",
   "execution_count": null,
   "id": "7ec3f59c-32c5-44bd-b3c0-281391794132",
   "metadata": {},
   "outputs": [],
   "source": [
    "df4.groupby(by = 'Investor', as_index = False).sum()"
   ]
  },
  {
   "cell_type": "code",
   "execution_count": null,
   "id": "5e190817-617d-4e4f-b726-5feacbe95a91",
   "metadata": {},
   "outputs": [],
   "source": [
    "df4.Investor.isna().sum()"
   ]
  },
  {
   "cell_type": "code",
   "execution_count": null,
   "id": "1d293d4d-aa96-411e-a81e-ae3a72c25457",
   "metadata": {},
   "outputs": [],
   "source": []
  },
  {
   "cell_type": "code",
   "execution_count": null,
   "id": "cfa2b4f0-2b5f-433b-87a9-c7c4b7c29fec",
   "metadata": {},
   "outputs": [],
   "source": [
    "df4.describe().T"
   ]
  },
  {
   "cell_type": "code",
   "execution_count": null,
   "id": "44f269f2-a0fc-4d05-8859-cc610d12c57b",
   "metadata": {},
   "outputs": [],
   "source": []
  },
  {
   "cell_type": "code",
   "execution_count": null,
   "id": "9e550c18-8e15-4d1c-be99-c8add03dc7ce",
   "metadata": {},
   "outputs": [],
   "source": [
    "# Convert Amount column from object to float data type\n",
    "\n",
    "# Remove currency symbol $\n",
    "df4['Amount($)'] = df4['Amount($)'].str.replace('$', '')\n",
    "\n",
    "# Remove the comma (,) symbol\n",
    "df4['Amount($)'] = df4['Amount($)'].str.replace(',', '')\n",
    "df4['Amount($)'] = df4['Amount($)'].str.replace('', '0')\n",
    "# Replace all strings longer than 9 character\n",
    "max_length = 9\n",
    "df4['Amount($)'] = df4['Amount($)'].apply(lambda x: '0' if len(x) > max_length else x)\n",
    "\n",
    "# Remove all white spaces\n",
    "df4['Amount($)'] = df4['Amount($)'].str.strip()\n",
    "\n",
    "df4['Amount($)'] = df4['Amount($)'].astype(np.float64).round(2)"
   ]
  },
  {
   "cell_type": "code",
   "execution_count": null,
   "id": "69f3e78f-d8e4-4cb0-910b-eaf59706825e",
   "metadata": {},
   "outputs": [],
   "source": [
    "df4.isna().sum()"
   ]
  },
  {
   "cell_type": "code",
   "execution_count": null,
   "id": "94e76065-263f-4169-849c-4f4e57fca002",
   "metadata": {},
   "outputs": [],
   "source": [
    "df4.info()"
   ]
  },
  {
   "cell_type": "code",
   "execution_count": null,
   "id": "4622bbce-69d8-448e-8476-0a6f34b2d739",
   "metadata": {},
   "outputs": [],
   "source": []
  },
  {
   "cell_type": "code",
   "execution_count": null,
   "id": "eca15aae-0eef-41c3-8f37-0d0aa13a6940",
   "metadata": {},
   "outputs": [],
   "source": []
  },
  {
   "cell_type": "code",
   "execution_count": null,
   "id": "4816b7bb-c9e5-4092-975b-01f66cd4d98a",
   "metadata": {},
   "outputs": [],
   "source": [
    "# Concatenate all DataFrames along rows\n",
    "df = pd.concat([df1, df2, df3, df4], ignore_index=True)\n",
    "\n",
    "# If there are overlapping columns, you can handle them separately if needed\n",
    "\n",
    "# Print the concatenated DataFrame\n",
    "df"
   ]
  },
  {
   "cell_type": "code",
   "execution_count": null,
   "id": "5433f5a8-bcb9-4799-861a-cd910c713a33",
   "metadata": {},
   "outputs": [],
   "source": [
    "df.drop(columns=['column10'], inplace=True)\n",
    "df"
   ]
  },
  {
   "cell_type": "code",
   "execution_count": null,
   "id": "8bf5db3e-ea95-40e9-9f0b-d0812ad213a8",
   "metadata": {},
   "outputs": [],
   "source": [
    "df.describe().T.round(2)"
   ]
  },
  {
   "cell_type": "code",
   "execution_count": null,
   "id": "ae2b8bde-e56c-4ebd-b491-e3ec9beeac92",
   "metadata": {},
   "outputs": [],
   "source": [
    "df.isna().sum()"
   ]
  },
  {
   "cell_type": "code",
   "execution_count": null,
   "id": "517a40d5-3832-46fe-9f28-5c8ee0d04838",
   "metadata": {},
   "outputs": [],
   "source": [
    "df['Amount($)'].mean().round(2)"
   ]
  },
  {
   "cell_type": "code",
   "execution_count": null,
   "id": "fcb0ee77-e5bf-4f48-a144-4c8187d83c4f",
   "metadata": {},
   "outputs": [],
   "source": [
    "df.head()"
   ]
  },
  {
   "cell_type": "code",
   "execution_count": null,
   "id": "e354db0a-f61a-417d-aeda-6d9787a2df85",
   "metadata": {},
   "outputs": [],
   "source": [
    "df.shape"
   ]
  },
  {
   "cell_type": "code",
   "execution_count": null,
   "id": "f8e0ecc7-52e9-4a20-81a5-daf231304da8",
   "metadata": {},
   "outputs": [],
   "source": [
    "df.info()"
   ]
  },
  {
   "cell_type": "code",
   "execution_count": null,
   "id": "bbf41768-8526-4329-90c3-59b12f756521",
   "metadata": {},
   "outputs": [],
   "source": [
    "df.describe()"
   ]
  },
  {
   "cell_type": "code",
   "execution_count": null,
   "id": "fd665e96-d17f-458e-bba4-19031928c1f6",
   "metadata": {},
   "outputs": [],
   "source": [
    "# df.duplicated().sum()"
   ]
  },
  {
   "cell_type": "code",
   "execution_count": null,
   "id": "2c38540b-0957-462b-8bcd-2cb10def10c2",
   "metadata": {},
   "outputs": [],
   "source": [
    "# df.drop_duplicates()"
   ]
  },
  {
   "cell_type": "markdown",
   "id": "f4ff29ae-5e03-4561-b2f5-eb049cf09123",
   "metadata": {},
   "source": [
    "### Visualizing Characteristics of the Dataset"
   ]
  },
  {
   "cell_type": "code",
   "execution_count": null,
   "id": "6b79347e-a970-4ed2-80e8-147bcee22faa",
   "metadata": {},
   "outputs": [],
   "source": [
    "# Visualize the distribution of the start-ups' Stage with boxplot\n",
    "df.plot.box(column='Amount($)', by='Year')"
   ]
  },
  {
   "cell_type": "code",
   "execution_count": null,
   "id": "5cb2c122-4b33-4ec2-8201-3f8046e3a81b",
   "metadata": {},
   "outputs": [],
   "source": [
    "# Visualize the distribution of the start-ups' Location with boxplot\n",
    "df.plot.box(column='Amount($)', by='Founded')"
   ]
  },
  {
   "cell_type": "code",
   "execution_count": null,
   "id": "cd587bb1-9aeb-4a3b-8c49-08a0faa323f5",
   "metadata": {},
   "outputs": [],
   "source": [
    "# Distribution of the variables\n",
    "df.hist(figsize=(20, 15))"
   ]
  },
  {
   "cell_type": "code",
   "execution_count": null,
   "id": "695b83ee-39f9-41e9-9228-4be06126b071",
   "metadata": {},
   "outputs": [],
   "source": []
  },
  {
   "cell_type": "code",
   "execution_count": null,
   "id": "f53d8d2d-116d-4567-b328-9deb29088e36",
   "metadata": {},
   "outputs": [],
   "source": []
  },
  {
   "cell_type": "code",
   "execution_count": null,
   "id": "20499a25-265e-4a65-990c-40afa00831cf",
   "metadata": {},
   "outputs": [],
   "source": []
  },
  {
   "cell_type": "code",
   "execution_count": null,
   "id": "da5fc2b2-f0bf-458f-83bc-de7b65be56f4",
   "metadata": {},
   "outputs": [],
   "source": []
  },
  {
   "cell_type": "code",
   "execution_count": null,
   "id": "44433128-b36e-4b26-b04a-615696b3ac61",
   "metadata": {},
   "outputs": [],
   "source": []
  },
  {
   "cell_type": "code",
   "execution_count": null,
   "id": "9b325e0f-a62c-4bc5-8453-e70ad2bdd8fd",
   "metadata": {},
   "outputs": [],
   "source": []
  },
  {
   "cell_type": "code",
   "execution_count": null,
   "id": "d3f6a2f7-48ef-43e5-b686-55bb31a4d3ae",
   "metadata": {},
   "outputs": [],
   "source": []
  },
  {
   "cell_type": "code",
   "execution_count": null,
   "id": "ce4fcc0a-a313-4f17-bec1-950d35a421a3",
   "metadata": {},
   "outputs": [],
   "source": []
  },
  {
   "cell_type": "code",
   "execution_count": null,
   "id": "abda1d98-8e32-4f13-a986-8e5b6e88be98",
   "metadata": {},
   "outputs": [],
   "source": []
  },
  {
   "cell_type": "code",
   "execution_count": null,
   "id": "cd1b9b87-49ca-4836-8cd4-782b0d4381ac",
   "metadata": {},
   "outputs": [],
   "source": []
  },
  {
   "cell_type": "code",
   "execution_count": null,
   "id": "9715bbbf-7443-47fc-a4ea-668793644aa7",
   "metadata": {},
   "outputs": [],
   "source": []
  },
  {
   "cell_type": "code",
   "execution_count": null,
   "id": "381e62e8-5b53-4c27-81db-df20c849ecc5",
   "metadata": {},
   "outputs": [],
   "source": []
  },
  {
   "cell_type": "code",
   "execution_count": null,
   "id": "34852441-f28d-465c-aacc-01dc1288c7c4",
   "metadata": {},
   "outputs": [],
   "source": []
  }
 ],
 "metadata": {
  "kernelspec": {
   "display_name": "Python 3 (ipykernel)",
   "language": "python",
   "name": "python3"
  },
  "language_info": {
   "codemirror_mode": {
    "name": "ipython",
    "version": 3
   },
   "file_extension": ".py",
   "mimetype": "text/x-python",
   "name": "python",
   "nbconvert_exporter": "python",
   "pygments_lexer": "ipython3",
   "version": "3.11.5"
  }
 },
 "nbformat": 4,
 "nbformat_minor": 5
}
